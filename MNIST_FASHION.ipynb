{
  "nbformat": 4,
  "nbformat_minor": 0,
  "metadata": {
    "colab": {
      "provenance": [],
      "gpuType": "T4",
      "authorship_tag": "ABX9TyMLfhac4dRuL/p0BoIOvqcM",
      "include_colab_link": true
    },
    "kernelspec": {
      "name": "python3",
      "display_name": "Python 3"
    },
    "language_info": {
      "name": "python"
    },
    "accelerator": "GPU"
  },
  "cells": [
    {
      "cell_type": "markdown",
      "metadata": {
        "id": "view-in-github",
        "colab_type": "text"
      },
      "source": [
        "<a href=\"https://colab.research.google.com/github/faridig/MNIST_FASHION/blob/main/MNIST_FASHION.ipynb\" target=\"_parent\"><img src=\"https://colab.research.google.com/assets/colab-badge.svg\" alt=\"Open In Colab\"/></a>"
      ]
    },
    {
      "cell_type": "code",
      "execution_count": 140,
      "metadata": {
        "id": "Zf69NTmKj5AU"
      },
      "outputs": [],
      "source": [
        "from keras.datasets import fashion_mnist #dataset mnist\n",
        "from keras.models import Sequential #empilement couche par couche p.58\n",
        "from keras.layers import Dense, Dropout, Flatten, BatchNormalization #différentes couches que l'on rajoute\n",
        "from keras import backend as K #gestion tenseurs, opération mathématiques\n",
        "from keras.callbacks import EarlyStopping #pr stopper si pas d'amélioration\n",
        "from keras.callbacks import TensorBoard #interface graph\n",
        "from keras.optimizers import Adam\n",
        "\n",
        "import matplotlib.pyplot as plt\n",
        "import keras\n",
        "\n",
        "\n",
        "#Regression logisic : Baseline accuracy: 0.8347\n"
      ]
    },
    {
      "cell_type": "code",
      "source": [
        "# Chargement du dataset Fashion MNIST\n",
        "# La fonction load_data() de Keras nous permet de charger le dataset Fashion MNIST\n",
        "(X_train, y_train), (X_test, y_test) = fashion_mnist.load_data()\n",
        "\n",
        "print(X_train[:10])\n",
        "\n",
        "\n",
        "# Affichage de la taille du dataset\n",
        "print(\"Taille du dataset d'entrainement:\", X_train.shape)\n",
        "print(\"Taille du dataset de test:\", X_test.shape)"
      ],
      "metadata": {
        "colab": {
          "base_uri": "https://localhost:8080/"
        },
        "id": "8sdaN4fNHvoV",
        "outputId": "634c4537-952e-4fcb-b9e3-34e0c678de16"
      },
      "execution_count": 141,
      "outputs": [
        {
          "output_type": "stream",
          "name": "stdout",
          "text": [
            "[[[  0   0   0 ...   0   0   0]\n",
            "  [  0   0   0 ...   0   0   0]\n",
            "  [  0   0   0 ...   0   0   0]\n",
            "  ...\n",
            "  [  0   0   0 ...   0   0   0]\n",
            "  [  0   0   0 ...   0   0   0]\n",
            "  [  0   0   0 ...   0   0   0]]\n",
            "\n",
            " [[  0   0   0 ...   0   0   0]\n",
            "  [  0   0   0 ...   0   0   0]\n",
            "  [  0   0   0 ...   0   0   0]\n",
            "  ...\n",
            "  [  0   0   0 ...   0   0   0]\n",
            "  [  0   0   0 ...   0   0   0]\n",
            "  [  0   0   0 ...   0   0   0]]\n",
            "\n",
            " [[  0   0   0 ...   0   0   0]\n",
            "  [  0   0   0 ...   0   0   0]\n",
            "  [  0   0   0 ...   0   0   0]\n",
            "  ...\n",
            "  [  0   0   0 ...   0   0   0]\n",
            "  [  0   0   0 ...   0   0   0]\n",
            "  [  0   0   0 ...   0   0   0]]\n",
            "\n",
            " ...\n",
            "\n",
            " [[  0   0   0 ...   0   0   0]\n",
            "  [  0   0   0 ...   0   0   0]\n",
            "  [  0   0   0 ...   0   0   0]\n",
            "  ...\n",
            "  [  0   0   0 ... 180   0   0]\n",
            "  [  0   0   0 ...  72   0   0]\n",
            "  [  0   0   0 ...  70   0   0]]\n",
            "\n",
            " [[  0   0   0 ...   0   0   0]\n",
            "  [  0   0   0 ...   0   0   0]\n",
            "  [  0   0   0 ...  39   1   0]\n",
            "  ...\n",
            "  [  0   0   0 ... 238   0   0]\n",
            "  [  0   0   0 ... 131   0   0]\n",
            "  [  0   0   0 ...   0   0   0]]\n",
            "\n",
            " [[  0   0   0 ...   0   0   0]\n",
            "  [  0   0   0 ...   0   0   0]\n",
            "  [  0   0   0 ...   7   0   0]\n",
            "  ...\n",
            "  [  0   0   0 ...   0   9   0]\n",
            "  [  0   0   0 ...   0   3   0]\n",
            "  [  0   0   0 ...   0   0   0]]]\n",
            "Taille du dataset d'entrainement: (60000, 28, 28)\n",
            "Taille du dataset de test: (10000, 28, 28)\n"
          ]
        }
      ]
    },
    {
      "cell_type": "code",
      "source": [
        "# le dataset contient 10 classes\n",
        "#Voici à quoi correspondent ces labels : T-shirt/top 1: Trouser 2: Pullover 3: Dress 4: Coat 5: Sandal 6: Shirt 7: Sneaker 8: Bag 9: Ankle boot\n",
        "\n",
        "unique_labels = np.unique(y_train)\n",
        "unique_labels"
      ],
      "metadata": {
        "colab": {
          "base_uri": "https://localhost:8080/"
        },
        "id": "ApRSwUxTIk6Q",
        "outputId": "55982947-d308-48b7-83ff-539f4d2ae694"
      },
      "execution_count": 142,
      "outputs": [
        {
          "output_type": "execute_result",
          "data": {
            "text/plain": [
              "array([0, 1, 2, 3, 4, 5, 6, 7, 8, 9], dtype=uint8)"
            ]
          },
          "metadata": {},
          "execution_count": 142
        }
      ]
    },
    {
      "cell_type": "code",
      "source": [
        "# Visualisation des données\n",
        "import numpy as np\n",
        "\n",
        "# Afficher les 10 premières images du dataset\n",
        "plt.figure(figsize=(10,10))\n",
        "for i in range(10):\n",
        "    plt.subplot(5,5,i+1)\n",
        "    plt.xticks([])\n",
        "    plt.yticks([])\n",
        "    plt.grid(False)\n",
        "    plt.imshow(X_train[i], cmap=plt.cm.binary)\n",
        "plt.show()"
      ],
      "metadata": {
        "colab": {
          "base_uri": "https://localhost:8080/",
          "height": 329
        },
        "id": "QujrnatVHy4f",
        "outputId": "70b54071-5aaa-4530-9197-fe752cfc27de"
      },
      "execution_count": 143,
      "outputs": [
        {
          "output_type": "display_data",
          "data": {
            "text/plain": [
              "<Figure size 1000x1000 with 10 Axes>"
            ],
            "image/png": "[encoded data removed]"
          },
          "metadata": {}
        }
      ]
    },
    {
      "cell_type": "code",
      "source": [
        "#conversion des labels en cat\n",
        "num_classes = 10\n",
        "y_train = keras.utils.to_categorical(y_train, num_classes)\n",
        "y_test = keras.utils.to_categorical(y_test, num_classes)"
      ],
      "metadata": {
        "id": "OTnFfd09LA7U"
      },
      "execution_count": 144,
      "outputs": []
    },
    {
      "cell_type": "code",
      "source": [
        "# Normalisation des valeurs de pixel\n",
        "X_train = X_train.astype('float32') / 255\n",
        "X_test = X_test.astype('float32') / 255"
      ],
      "metadata": {
        "id": "cWejHjuZMe4m"
      },
      "execution_count": 145,
      "outputs": []
    },
    {
      "cell_type": "code",
      "source": [
        "#construction du model\n",
        "model = Sequential()\n",
        "\n",
        "'''Cette ligne aplatit les images d'entrée. Les images 2D de 28x28 pixels sont transformées en un vecteur 1D\n",
        "réseau de neurones s'attendent à des entrées qui sont des vecteurs (1D)'''\n",
        "#couche1 pr aplatir les images\n",
        "model.add(Flatten(input_shape=(28, 28)))\n",
        "\n",
        "\n",
        "#couche2 de neurones avec 128 neurones\n",
        "model.add(Dense(128, activation='elu'))\n",
        "\n",
        "model.add(Dense(128, activation='elu'))\n",
        "\n",
        "model.add(Dense(128, activation='elu'))\n",
        "\n",
        "model.add(Dense(128, activation='elu'))\n",
        "\n",
        "model.add(Dense(128, activation='elu'))\n",
        "\n",
        "model.add(Dense(128, activation='elu'))\n",
        "\n",
        "model.add(Dense(128, activation='elu'))\n",
        "\n",
        "#couche3 de sortie, softmax car multi labels\n",
        "model.add(Dense(num_classes, activation='softmax'))\n",
        "\n",
        "\n",
        "model.compile(loss=keras.losses.categorical_crossentropy,\n",
        "              optimizer='adamax',\n",
        "              metrics=['accuracy'])\n",
        "\n",
        "'''loss=keras.losses.categorical_crossentropy : Ceci définit la fonction de perte que le modèle tentera de minimiser.\n",
        "La fonction de perte categorical_crossentropy est couramment utilisée pour les problèmes de classification multiclasse.\n",
        "Elle compare les vraies étiquettes de classe avec les probabilités de classe prédites par le modèle.\n",
        "\n",
        "optimizer=keras.optimizers.Adadelta() : Ceci définit l'optimiseur qui sera utilisé pour mettre à jour les poids du modèle.\n",
        " L'optimiseur Adadelta est une méthode de descente de gradient stochastique qui adapte le taux d'apprentissage à chaque paramètre,\n",
        "  en gardant une fenêtre de taille fixe des mises à jour récentes. Il n'a pas besoin d'un taux d'apprentissage par défaut. '''\n",
        "\n",
        "# Définition de l'arrêt précoce\n",
        "#surveiller la perte sur l'ensemble de validation, et patience=3 arrêt entraînement si la perte sur l'ensemble de validation ne s'améliore pas pendant 3 époques consécutives.\n",
        "early_stopping = EarlyStopping(monitor='val_loss', patience=3)\n",
        "\n",
        "#tensorboard pr la visualition\n",
        "tensorboard = TensorBoard(log_dir='./logs', histogram_freq=1)\n",
        "\n",
        "#affichage résumé du modèle\n",
        "model.summary()\n",
        "\n",
        "'''En résumé, le modèle prend des images en entrée, les aplati en un vecteur de taille 784 avec la couche flatten_6,\n",
        " puis passe ce vecteur à travers une couche dense dense_10 avec 128 neurones,\n",
        " et enfin à travers une autre couche dense dense_11 avec 10 neurones.\n",
        " Le modèle a un total de 101770 paramètres à apprendre.'''\n"
      ],
      "metadata": {
        "colab": {
          "base_uri": "https://localhost:8080/",
          "height": 521
        },
        "id": "p3tZ1zXgJp69",
        "outputId": "f798f698-147b-4bc1-b148-bf399eabf6d3"
      },
      "execution_count": 146,
      "outputs": [
        {
          "output_type": "stream",
          "name": "stdout",
          "text": [
            "Model: \"sequential_24\"\n",
            "_________________________________________________________________\n",
            " Layer (type)                Output Shape              Param #   \n",
            "=================================================================\n",
            " flatten_22 (Flatten)        (None, 784)               0         \n",
            "                                                                 \n",
            " dense_48 (Dense)            (None, 128)               100480    \n",
            "                                                                 \n",
            " dense_49 (Dense)            (None, 128)               16512     \n",
            "                                                                 \n",
            " dense_50 (Dense)            (None, 128)               16512     \n",
            "                                                                 \n",
            " dense_51 (Dense)            (None, 128)               16512     \n",
            "                                                                 \n",
            " dense_52 (Dense)            (None, 128)               16512     \n",
            "                                                                 \n",
            " dense_53 (Dense)            (None, 128)               16512     \n",
            "                                                                 \n",
            " dense_54 (Dense)            (None, 128)               16512     \n",
            "                                                                 \n",
            " dense_55 (Dense)            (None, 10)                1290      \n",
            "                                                                 \n",
            "=================================================================\n",
            "Total params: 200842 (784.54 KB)\n",
            "Trainable params: 200842 (784.54 KB)\n",
            "Non-trainable params: 0 (0.00 Byte)\n",
            "_________________________________________________________________\n"
          ]
        },
        {
          "output_type": "execute_result",
          "data": {
            "text/plain": [
              "'En résumé, le modèle prend des images en entrée, les aplati en un vecteur de taille 784 avec la couche flatten_6,\\n puis passe ce vecteur à travers une couche dense dense_10 avec 128 neurones, \\n et enfin à travers une autre couche dense dense_11 avec 10 neurones. \\n Le modèle a un total de 101770 paramètres à apprendre.'"
            ],
            "application/vnd.google.colaboratory.intrinsic+json": {
              "type": "string"
            }
          },
          "metadata": {},
          "execution_count": 146
        }
      ]
    },
    {
      "cell_type": "code",
      "source": [
        "#entrainement du modèle\n",
        "\n",
        "model.fit(X_train, y_train,\n",
        "          validation_data=(X_test, y_test),\n",
        "          epochs=300,\n",
        "          callbacks=[tensorboard, early_stopping])"
      ],
      "metadata": {
        "colab": {
          "base_uri": "https://localhost:8080/"
        },
        "id": "VC93zIgbViN8",
        "outputId": "e68b4ab2-6679-4448-b19b-436310e6ac51"
      },
      "execution_count": 147,
      "outputs": [
        {
          "output_type": "stream",
          "name": "stdout",
          "text": [
            "Epoch 1/300\n",
            "1875/1875 [==============================] - 16s 8ms/step - loss: 0.4853 - accuracy: 0.8224 - val_loss: 0.4355 - val_accuracy: 0.8427\n",
            "Epoch 2/300\n",
            "1875/1875 [==============================] - 14s 8ms/step - loss: 0.3780 - accuracy: 0.8598 - val_loss: 0.3948 - val_accuracy: 0.8549\n",
            "Epoch 3/300\n",
            "1875/1875 [==============================] - 13s 7ms/step - loss: 0.3459 - accuracy: 0.8722 - val_loss: 0.4179 - val_accuracy: 0.8486\n",
            "Epoch 4/300\n",
            "1875/1875 [==============================] - 14s 7ms/step - loss: 0.3248 - accuracy: 0.8790 - val_loss: 0.3818 - val_accuracy: 0.8634\n",
            "Epoch 5/300\n",
            "1875/1875 [==============================] - 14s 8ms/step - loss: 0.3050 - accuracy: 0.8866 - val_loss: 0.3501 - val_accuracy: 0.8716\n",
            "Epoch 6/300\n",
            "1875/1875 [==============================] - 14s 8ms/step - loss: 0.2917 - accuracy: 0.8901 - val_loss: 0.3429 - val_accuracy: 0.8765\n",
            "Epoch 7/300\n",
            "1875/1875 [==============================] - 15s 8ms/step - loss: 0.2782 - accuracy: 0.8960 - val_loss: 0.3300 - val_accuracy: 0.8825\n",
            "Epoch 8/300\n",
            "1875/1875 [==============================] - 13s 7ms/step - loss: 0.2672 - accuracy: 0.8995 - val_loss: 0.3457 - val_accuracy: 0.8754\n",
            "Epoch 9/300\n",
            "1875/1875 [==============================] - 14s 7ms/step - loss: 0.2567 - accuracy: 0.9029 - val_loss: 0.3366 - val_accuracy: 0.8796\n",
            "Epoch 10/300\n",
            "1875/1875 [==============================] - 15s 8ms/step - loss: 0.2480 - accuracy: 0.9058 - val_loss: 0.3345 - val_accuracy: 0.8829\n"
          ]
        },
        {
          "output_type": "execute_result",
          "data": {
            "text/plain": [
              "<keras.src.callbacks.History at 0x7fbbfbb26b30>"
            ]
          },
          "metadata": {},
          "execution_count": 147
        }
      ]
    },
    {
      "cell_type": "code",
      "source": [
        "# Enfin, nous évaluons le modèle sur le dataset de test pour obtenir la précision finale du modèle.\n",
        "score = model.evaluate(X_test, y_test, verbose=0)\n",
        "print('Test loss:', score[0])\n",
        "print('Test accuracy:', score[1])"
      ],
      "metadata": {
        "colab": {
          "base_uri": "https://localhost:8080/"
        },
        "id": "XsYlwIOPb1WD",
        "outputId": "02f674a6-5727-423f-b7e7-397c93fd6e23"
      },
      "execution_count": 148,
      "outputs": [
        {
          "output_type": "stream",
          "name": "stdout",
          "text": [
            "Test loss: 0.3344568908214569\n",
            "Test accuracy: 0.8828999996185303\n"
          ]
        }
      ]
    },
    {
      "cell_type": "code",
      "source": [
        "'''\n",
        "\n",
        "#couche1 pr aplatir les images\n",
        "model.add(Flatten(input_shape=(28, 28)))\n",
        "\n",
        "model.add(BatchNormalization())\n",
        "\n",
        "#couche2 de neurones avec 128 neurones\n",
        "model.add(Dense(128, activation='selu'))\n",
        "model.add(BatchNormalization())\n",
        "\n",
        "#couche3 de sortie, softmax car multi labels\n",
        "model.add(Dense(num_classes, activation='softmax'))\n",
        "\n",
        "\n",
        "model.compile(loss=keras.losses.categorical_crossentropy,\n",
        "              optimizer='adamax',\n",
        "              metrics=['accuracy'])\n",
        "\n",
        "Test loss: 0.33261948823928833\n",
        "Test accuracy: 0.888700008392334\n",
        "-------------------------------------------------\n",
        "\n",
        "#couche1 pr aplatir les images\n",
        "model.add(Flatten(input_shape=(28, 28)))\n",
        "\n",
        "model.add(BatchNormalization())\n",
        "\n",
        "#couche2 de neurones avec 128 neurones\n",
        "model.add(Dense(128, activation='selu'))\n",
        "model.add(BatchNormalization())\n",
        "\n",
        "#couche3 de sortie, softmax car multi labels\n",
        "model.add(Dense(num_classes, activation='softmax'))\n",
        "\n",
        "\n",
        "model.compile(loss=keras.losses.categorical_crossentropy,\n",
        "              optimizer='adam',\n",
        "              metrics=['accuracy'])\n",
        "\n",
        "\n",
        "Test loss: 0.3331810534000397\n",
        "Test accuracy: 0.8870999813079834\n",
        "\n",
        "\n",
        "--------------------------------------------------------------------------------\n",
        "\n",
        "\n",
        "\n",
        "\n",
        "\n",
        "\n",
        "'''"
      ],
      "metadata": {
        "colab": {
          "base_uri": "https://localhost:8080/",
          "height": 140
        },
        "id": "G5Y9GgzKgMJz",
        "outputId": "8737e977-442b-4fd4-d7ff-945d2eb5dc5d"
      },
      "execution_count": 149,
      "outputs": [
        {
          "output_type": "execute_result",
          "data": {
            "text/plain": [
              "\" \\n\\n#couche1 pr aplatir les images\\nmodel.add(Flatten(input_shape=(28, 28)))\\n\\nmodel.add(BatchNormalization())\\n\\n#couche2 de neurones avec 128 neurones\\nmodel.add(Dense(128, activation='selu'))\\nmodel.add(BatchNormalization())\\n\\n#couche3 de sortie, softmax car multi labels\\nmodel.add(Dense(num_classes, activation='softmax'))\\n\\n\\nmodel.compile(loss=keras.losses.categorical_crossentropy,\\n              optimizer='adamax',\\n              metrics=['accuracy'])\\n\\nTest loss: 0.33261948823928833\\nTest accuracy: 0.888700008392334\\n-------------------------------------------------\\n\\n#couche1 pr aplatir les images\\nmodel.add(Flatten(input_shape=(28, 28)))\\n\\nmodel.add(BatchNormalization())\\n\\n#couche2 de neurones avec 128 neurones\\nmodel.add(Dense(128, activation='selu'))\\nmodel.add(BatchNormalization())\\n\\n#couche3 de sortie, softmax car multi labels\\nmodel.add(Dense(num_classes, activation='softmax'))\\n\\n\\nmodel.compile(loss=keras.losses.categorical_crossentropy,\\n              optimizer='adam',\\n              metrics=['accuracy'])\\n\\n\\nTest loss: 0.3331810534000397\\nTest accuracy: 0.8870999813079834\\n\\n\\n--------------------------------------------------------------------------------\\n\\n\\n\\n\\n\\n\\n\""
            ],
            "application/vnd.google.colaboratory.intrinsic+json": {
              "type": "string"
            }
          },
          "metadata": {},
          "execution_count": 149
        }
      ]
    }
  ]
}